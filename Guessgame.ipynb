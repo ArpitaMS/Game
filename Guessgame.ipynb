{
  "nbformat": 4,
  "nbformat_minor": 0,
  "metadata": {
    "colab": {
      "provenance": [],
      "authorship_tag": "ABX9TyP+5BxMT+leJSV+JHwmOX+2"
    },
    "kernelspec": {
      "name": "python3",
      "display_name": "Python 3"
    },
    "language_info": {
      "name": "python"
    }
  },
  "cells": [
    {
      "cell_type": "code",
      "execution_count": 9,
      "metadata": {
        "colab": {
          "base_uri": "https://localhost:8080/",
          "height": 488
        },
        "id": "Nw__NM3U0bRS",
        "outputId": "750563d4-4fbb-46ce-863a-c70cb3bf4057"
      },
      "outputs": [
        {
          "name": "stdout",
          "output_type": "stream",
          "text": [
            "Enter Your Name: Arpi\n",
            "Welcome To The Game World Arpi\n",
            "We are going to give you 6 attempts for guessing\n",
            "Guess the letter:3\n",
            "nah!\n",
            "Guess the letter:t\n",
            "nah!\n",
            "Guess the letter:a\n",
            "yeah!\n",
            "Guess the letter:m\n",
            "nah!\n",
            "\n",
            "Would you like a Clue?no\n",
            "You are very confident!\n",
            "Guess the letter:p\n",
            "nah!\n",
            "Guess the letter:o\n",
            "yeah!\n",
            "\n",
            "Now Let's see What have you guessed so far, You have guessed: 2 Letters correctly.\n",
            "These Letters are: ['a', 'o']\n",
            "Guess the whole word:oracle\n",
            "Congrats! You Are Right\n",
            "\n",
            "Please Press Enter to Leave the Game\n"
          ]
        },
        {
          "output_type": "execute_result",
          "data": {
            "text/plain": [
              "''"
            ],
            "application/vnd.google.colaboratory.intrinsic+json": {
              "type": "string"
            }
          },
          "metadata": {},
          "execution_count": 9
        }
      ],
      "source": [
        "import random\n",
        "\n",
        "words = [ 'apple' , 'oracle', 'amazon', 'microsoft' ,'orange', 'hippopatamus', 'pomogranate',]\n",
        "\n",
        "#choose random word from list\n",
        "guessed_word = random.choice(words)\n",
        "guessed_word\n",
        "\n",
        "hint=guessed_word[0]+guessed_word[-1]\n",
        "hint\n",
        "\n",
        "store_g_1=[]\n",
        "try_p=6\n",
        "a=input('Enter Your Name: ')\n",
        "print('Welcome To The Game World',a)\n",
        "print('We are going to give you 6 attempts for guessing')\n",
        "\n",
        "for guess in range(try_p):\n",
        "  while True:\n",
        "    letter = input('Guess the letter:')\n",
        "\n",
        "    if len(letter) ==1:\n",
        "      break\n",
        "\n",
        "    else:\n",
        "      print('Oops! Please Guess a letter!')\n",
        "\n",
        "  if letter in guessed_word:\n",
        "    print('yeah!')\n",
        "    store_g_1.append(letter)\n",
        "  else:\n",
        "    print('nah!')\n",
        "\n",
        "  if guess==3:\n",
        "    print()\n",
        "    clue_request = input('Would you like a Clue?')\n",
        "    if clue_request.lower().startswith('y'):\n",
        "      print()\n",
        "      print('CLUE: The first and last letter of the word is:' ,hint)\n",
        "    else:\n",
        "      print('You are very confident!')\n",
        "\n",
        "print()\n",
        "print('''Now Let's see What have you guessed so far, You have guessed:''',len(store_g_1),'Letters correctly.')\n",
        "print('These Letters are:',store_g_1)\n",
        "\n",
        "word_guess = input('Guess the whole word:')\n",
        "if word_guess.lower() == guessed_word:\n",
        "  print('Congrats! You Are Right')\n",
        "else:\n",
        "  print('Sorry! The Answer Was', guessed_word)\n",
        "\n",
        "print()\n",
        "input('Please Press Enter to Leave the Game')\n",
        "\n"
      ]
    }
  ]
}